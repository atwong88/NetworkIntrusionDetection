{
 "cells": [
  {
   "cell_type": "code",
   "execution_count": 1,
   "metadata": {},
   "outputs": [],
   "source": [
    "import numpy as np\n",
    "import pandas as pd\n",
    "import scipy.io\n",
    "from scipy import sparse\n",
    "from sklearn.decomposition import PCA\n",
    "from sklearn.linear_model import Ridge\n",
    "from sklearn.metrics import accuracy_score, f1_score\n",
    "from scipy.stats import zscore\n",
    "from sklearn import preprocessing\n",
    "from sklearn.model_selection import train_test_split\n",
    "import math\n",
    "from matplotlib.pyplot import *"
   ]
  },
  {
   "cell_type": "code",
   "execution_count": 2,
   "metadata": {},
   "outputs": [],
   "source": [
    "class Reservoir(object):\n",
    "    \"\"\"\n",
    "    Build a reservoir and evaluate internal states\n",
    "    \n",
    "    Parameters:\n",
    "        n_internal_units = processing units in the reservoir\n",
    "        spectral_radius = largest eigenvalue of the reservoir matrix of connection weights\n",
    "        leak = amount of leakage in the reservoir state update (optional)\n",
    "        connectivity = percentage of nonzero connection weights (unused in circle reservoir)\n",
    "        input_scaling = scaling of the input connection weights\n",
    "        noise_level = deviation of the Gaussian noise injected in the state update\n",
    "        circle = generate determinisitc reservoir with circle topology\n",
    "    \"\"\"\n",
    "    \n",
    "    def __init__(self, n_internal_units=100, spectral_radius=0.99, leak=None,\n",
    "                 connectivity=0.3, input_scaling=0.2, noise_level=0.01, circle=False):\n",
    "        \n",
    "        # Initialize attributes\n",
    "        self._n_internal_units = n_internal_units\n",
    "        self._input_scaling = input_scaling\n",
    "        self._noise_level = noise_level\n",
    "        self._leak = leak\n",
    "\n",
    "        # Input weights depend on input size: they are set when data is provided\n",
    "        self._input_weights = None\n",
    "\n",
    "        # Generate internal weights\n",
    "        if circle:\n",
    "            self._internal_weights = self._initialize_internal_weights_Circ(\n",
    "                    n_internal_units,\n",
    "                    spectral_radius)\n",
    "        else:\n",
    "            self._internal_weights = self._initialize_internal_weights(\n",
    "                n_internal_units,\n",
    "                connectivity,\n",
    "                spectral_radius)\n",
    "\n",
    "\n",
    "    def _initialize_internal_weights_Circ(self, n_internal_units, spectral_radius):\n",
    "        \n",
    "        internal_weights = np.zeros((n_internal_units, n_internal_units))\n",
    "        internal_weights[0,-1] = spectral_radius\n",
    "        for i in range(n_internal_units-1):\n",
    "            internal_weights[i+1,i] = spectral_radius\n",
    "                \n",
    "        return internal_weights\n",
    "    \n",
    "    \n",
    "    def _initialize_internal_weights(self, n_internal_units,\n",
    "                                     connectivity, spectral_radius):\n",
    "\n",
    "        # Generate sparse, uniformly distributed weights.\n",
    "        internal_weights = sparse.rand(n_internal_units,\n",
    "                                       n_internal_units,\n",
    "                                       density=connectivity).todense()\n",
    "\n",
    "        # Ensure that the nonzero values are uniformly distributed in [-0.5, 0.5]\n",
    "        internal_weights[np.where(internal_weights > 0)] -= 0.5\n",
    "        \n",
    "        # Adjust the spectral radius.\n",
    "        E, _ = np.linalg.eig(internal_weights)\n",
    "        e_max = np.max(np.abs(E))\n",
    "        internal_weights /= np.abs(e_max)/spectral_radius       \n",
    "\n",
    "        return internal_weights\n",
    "\n",
    "\n",
    "    def _compute_state_matrix(self, X, n_drop=0):\n",
    "        N, T, _ = X.shape\n",
    "        previous_state = np.zeros((N, self._n_internal_units), dtype=float)\n",
    "\n",
    "        # Storage\n",
    "        state_matrix = np.empty((N, T - n_drop, self._n_internal_units), dtype=float)\n",
    "        for t in range(T):\n",
    "            current_input = X[:, t, :]\n",
    "\n",
    "            # Calculate state\n",
    "            state_before_tanh = self._internal_weights.dot(previous_state.T) + self._input_weights.dot(current_input.T)\n",
    "\n",
    "            # Add noise\n",
    "            state_before_tanh += np.random.rand(self._n_internal_units, N)*self._noise_level\n",
    "\n",
    "            # Apply nonlinearity and leakage (optional)\n",
    "            if self._leak is None:\n",
    "                previous_state = np.tanh(state_before_tanh).T\n",
    "            else:\n",
    "                previous_state = (1.0 - self._leak)*previous_state + np.tanh(state_before_tanh).T\n",
    "\n",
    "            # Store everything after the dropout period\n",
    "            if (t > n_drop - 1):\n",
    "                state_matrix[:, t - n_drop, :] = previous_state\n",
    "\n",
    "        return state_matrix\n",
    "\n",
    "\n",
    "    def get_states(self, X, n_drop=0, bidir=True):\n",
    "        N, T, V = X.shape\n",
    "        if self._input_weights is None:\n",
    "            self._input_weights = (2.0*np.random.binomial(1, 0.5 , [self._n_internal_units, V]) - 1.0)*self._input_scaling\n",
    "\n",
    "        # compute sequence of reservoir states\n",
    "        states = self._compute_state_matrix(X, n_drop)\n",
    "    \n",
    "        # reservoir states on time reversed input\n",
    "        if bidir is True:\n",
    "            X_r = X[:, ::-1, :]\n",
    "            states_r = self._compute_state_matrix(X_r, n_drop)\n",
    "            states = np.concatenate((states, states_r), axis=2)\n",
    "\n",
    "        return states\n",
    "    \n",
    "    def getReservoirEmbedding(self, X,pca, ridge_embedding,  n_drop=5, bidir=True, test = False):\n",
    "\n",
    "        res_states = self.get_states(X, n_drop=5, bidir=True)\n",
    "\n",
    "\n",
    "        N_samples = res_states.shape[0]\n",
    "        res_states = res_states.reshape(-1, res_states.shape[2])                   \n",
    "        # ..transform..\n",
    "        if test:\n",
    "            red_states = pca.transform(res_states)\n",
    "        else:\n",
    "            red_states = pca.fit_transform(res_states)          \n",
    "        # ..and put back in tensor form\n",
    "        red_states = red_states.reshape(N_samples,-1,red_states.shape[1])  \n",
    "\n",
    "        coeff_tr = []\n",
    "        biases_tr = []   \n",
    "\n",
    "        for i in range(X.shape[0]):\n",
    "            ridge_embedding.fit(red_states[i, 0:-1, :], red_states[i, 1:, :])\n",
    "            coeff_tr.append(ridge_embedding.coef_.ravel())\n",
    "            biases_tr.append(ridge_embedding.intercept_.ravel())\n",
    "        #print(np.array(coeff_tr).shape,np.array(biases_tr).shape)\n",
    "        input_repr = np.concatenate((np.vstack(coeff_tr), np.vstack(biases_tr)), axis=1)\n",
    "        return input_repr"
   ]
  },
  {
   "cell_type": "code",
   "execution_count": 3,
   "metadata": {},
   "outputs": [],
   "source": [
    "data = pd.read_csv(\"Thursday-15-02-2018_TrafficForML_CICFlowMeter.csv\")"
   ]
  },
  {
   "cell_type": "code",
   "execution_count": 3,
   "metadata": {},
   "outputs": [
    {
     "name": "stderr",
     "output_type": "stream",
     "text": [
      "/opt/anaconda3/lib/python3.7/site-packages/IPython/core/interactiveshell.py:3049: DtypeWarning: Columns (16,17) have mixed types. Specify dtype option on import or set low_memory=False.\n",
      "  interactivity=interactivity, compiler=compiler, result=result)\n"
     ]
    },
    {
     "data": {
      "text/html": [
       "<div>\n",
       "<style scoped>\n",
       "    .dataframe tbody tr th:only-of-type {\n",
       "        vertical-align: middle;\n",
       "    }\n",
       "\n",
       "    .dataframe tbody tr th {\n",
       "        vertical-align: top;\n",
       "    }\n",
       "\n",
       "    .dataframe thead th {\n",
       "        text-align: right;\n",
       "    }\n",
       "</style>\n",
       "<table border=\"1\" class=\"dataframe\">\n",
       "  <thead>\n",
       "    <tr style=\"text-align: right;\">\n",
       "      <th></th>\n",
       "      <th>Dst Port</th>\n",
       "      <th>Protocol</th>\n",
       "      <th>Timestamp</th>\n",
       "      <th>Flow Duration</th>\n",
       "      <th>Tot Fwd Pkts</th>\n",
       "      <th>Tot Bwd Pkts</th>\n",
       "      <th>TotLen Fwd Pkts</th>\n",
       "      <th>TotLen Bwd Pkts</th>\n",
       "      <th>Fwd Pkt Len Max</th>\n",
       "      <th>Fwd Pkt Len Min</th>\n",
       "      <th>...</th>\n",
       "      <th>Fwd Seg Size Min</th>\n",
       "      <th>Active Mean</th>\n",
       "      <th>Active Std</th>\n",
       "      <th>Active Max</th>\n",
       "      <th>Active Min</th>\n",
       "      <th>Idle Mean</th>\n",
       "      <th>Idle Std</th>\n",
       "      <th>Idle Max</th>\n",
       "      <th>Idle Min</th>\n",
       "      <th>Label</th>\n",
       "    </tr>\n",
       "  </thead>\n",
       "  <tbody>\n",
       "    <tr>\n",
       "      <th>128037</th>\n",
       "      <td>53</td>\n",
       "      <td>17</td>\n",
       "      <td>15/02/2018 11:18:07</td>\n",
       "      <td>2261</td>\n",
       "      <td>1</td>\n",
       "      <td>1</td>\n",
       "      <td>49</td>\n",
       "      <td>164</td>\n",
       "      <td>49</td>\n",
       "      <td>49</td>\n",
       "      <td>...</td>\n",
       "      <td>8</td>\n",
       "      <td>0.0</td>\n",
       "      <td>0.0</td>\n",
       "      <td>0</td>\n",
       "      <td>0</td>\n",
       "      <td>0.0</td>\n",
       "      <td>0.0</td>\n",
       "      <td>0</td>\n",
       "      <td>0</td>\n",
       "      <td>Benign</td>\n",
       "    </tr>\n",
       "    <tr>\n",
       "      <th>491755</th>\n",
       "      <td>3389</td>\n",
       "      <td>6</td>\n",
       "      <td>15/02/2018 01:57:33</td>\n",
       "      <td>2837721</td>\n",
       "      <td>9</td>\n",
       "      <td>7</td>\n",
       "      <td>1144</td>\n",
       "      <td>1581</td>\n",
       "      <td>677</td>\n",
       "      <td>0</td>\n",
       "      <td>...</td>\n",
       "      <td>20</td>\n",
       "      <td>0.0</td>\n",
       "      <td>0.0</td>\n",
       "      <td>0</td>\n",
       "      <td>0</td>\n",
       "      <td>0.0</td>\n",
       "      <td>0.0</td>\n",
       "      <td>0</td>\n",
       "      <td>0</td>\n",
       "      <td>Benign</td>\n",
       "    </tr>\n",
       "    <tr>\n",
       "      <th>470924</th>\n",
       "      <td>3389</td>\n",
       "      <td>6</td>\n",
       "      <td>15/02/2018 09:21:14</td>\n",
       "      <td>1645626</td>\n",
       "      <td>8</td>\n",
       "      <td>7</td>\n",
       "      <td>1148</td>\n",
       "      <td>1581</td>\n",
       "      <td>677</td>\n",
       "      <td>0</td>\n",
       "      <td>...</td>\n",
       "      <td>20</td>\n",
       "      <td>0.0</td>\n",
       "      <td>0.0</td>\n",
       "      <td>0</td>\n",
       "      <td>0</td>\n",
       "      <td>0.0</td>\n",
       "      <td>0.0</td>\n",
       "      <td>0</td>\n",
       "      <td>0</td>\n",
       "      <td>Benign</td>\n",
       "    </tr>\n",
       "    <tr>\n",
       "      <th>791624</th>\n",
       "      <td>3389</td>\n",
       "      <td>6</td>\n",
       "      <td>15/02/2018 02:46:24</td>\n",
       "      <td>2486564</td>\n",
       "      <td>8</td>\n",
       "      <td>8</td>\n",
       "      <td>1144</td>\n",
       "      <td>1874</td>\n",
       "      <td>677</td>\n",
       "      <td>0</td>\n",
       "      <td>...</td>\n",
       "      <td>20</td>\n",
       "      <td>0.0</td>\n",
       "      <td>0.0</td>\n",
       "      <td>0</td>\n",
       "      <td>0</td>\n",
       "      <td>0.0</td>\n",
       "      <td>0.0</td>\n",
       "      <td>0</td>\n",
       "      <td>0</td>\n",
       "      <td>Benign</td>\n",
       "    </tr>\n",
       "    <tr>\n",
       "      <th>491263</th>\n",
       "      <td>53</td>\n",
       "      <td>17</td>\n",
       "      <td>15/02/2018 12:34:09</td>\n",
       "      <td>1758</td>\n",
       "      <td>1</td>\n",
       "      <td>1</td>\n",
       "      <td>30</td>\n",
       "      <td>207</td>\n",
       "      <td>30</td>\n",
       "      <td>30</td>\n",
       "      <td>...</td>\n",
       "      <td>8</td>\n",
       "      <td>0.0</td>\n",
       "      <td>0.0</td>\n",
       "      <td>0</td>\n",
       "      <td>0</td>\n",
       "      <td>0.0</td>\n",
       "      <td>0.0</td>\n",
       "      <td>0</td>\n",
       "      <td>0</td>\n",
       "      <td>Benign</td>\n",
       "    </tr>\n",
       "  </tbody>\n",
       "</table>\n",
       "<p>5 rows × 80 columns</p>\n",
       "</div>"
      ],
      "text/plain": [
       "        Dst Port  Protocol            Timestamp  Flow Duration  Tot Fwd Pkts  \\\n",
       "128037        53        17  15/02/2018 11:18:07           2261             1   \n",
       "491755      3389         6  15/02/2018 01:57:33        2837721             9   \n",
       "470924      3389         6  15/02/2018 09:21:14        1645626             8   \n",
       "791624      3389         6  15/02/2018 02:46:24        2486564             8   \n",
       "491263        53        17  15/02/2018 12:34:09           1758             1   \n",
       "\n",
       "        Tot Bwd Pkts  TotLen Fwd Pkts  TotLen Bwd Pkts  Fwd Pkt Len Max  \\\n",
       "128037             1               49              164               49   \n",
       "491755             7             1144             1581              677   \n",
       "470924             7             1148             1581              677   \n",
       "791624             8             1144             1874              677   \n",
       "491263             1               30              207               30   \n",
       "\n",
       "        Fwd Pkt Len Min  ...  Fwd Seg Size Min  Active Mean  Active Std  \\\n",
       "128037               49  ...                 8          0.0         0.0   \n",
       "491755                0  ...                20          0.0         0.0   \n",
       "470924                0  ...                20          0.0         0.0   \n",
       "791624                0  ...                20          0.0         0.0   \n",
       "491263               30  ...                 8          0.0         0.0   \n",
       "\n",
       "        Active Max  Active Min  Idle Mean Idle Std Idle Max  Idle Min   Label  \n",
       "128037           0           0        0.0      0.0        0         0  Benign  \n",
       "491755           0           0        0.0      0.0        0         0  Benign  \n",
       "470924           0           0        0.0      0.0        0         0  Benign  \n",
       "791624           0           0        0.0      0.0        0         0  Benign  \n",
       "491263           0           0        0.0      0.0        0         0  Benign  \n",
       "\n",
       "[5 rows x 80 columns]"
      ]
     },
     "execution_count": 3,
     "metadata": {},
     "output_type": "execute_result"
    }
   ],
   "source": [
    "data = data.sample(frac=0.5, replace=True, random_state=1)\n",
    "data.head()\n",
    "\n",
    "# plot some of it\n",
    "#figure(10).clear()\n",
    "#plot(data[0:1000])\n",
    "#title('A sample of data')"
   ]
  },
  {
   "cell_type": "code",
   "execution_count": 4,
   "metadata": {},
   "outputs": [],
   "source": [
    "# features = ['Flow Duration', 'Tot Fwd Pkts',\n",
    "#        'Tot Bwd Pkts', 'TotLen Fwd Pkts', 'TotLen Bwd Pkts', 'Fwd Pkt Len Max',\n",
    "#        'Fwd Pkt Len Min', 'Fwd Pkt Len Mean', 'Fwd Pkt Len Std',\n",
    "#        'Bwd Pkt Len Max', 'Bwd Pkt Len Min', 'Bwd Pkt Len Mean',\n",
    "#        'Bwd Pkt Len Std', 'Flow Byts/s', 'Flow Pkts/s', 'Flow IAT Mean',\n",
    "#        'Flow IAT Std', 'Flow IAT Max', 'Flow IAT Min', 'Fwd IAT Tot',\n",
    "#        'Fwd IAT Mean', 'Fwd IAT Std', 'Fwd IAT Max', 'Fwd IAT Min',\n",
    "#        'Bwd IAT Tot', 'Bwd IAT Mean', 'Bwd IAT Std', 'Bwd IAT Max',\n",
    "#        'Bwd IAT Min', 'Fwd PSH Flags', 'Bwd PSH Flags', 'Fwd URG Flags',\n",
    "#        'Bwd URG Flags', 'Fwd Header Len', 'Bwd Header Len', 'Fwd Pkts/s',\n",
    "#        'Bwd Pkts/s', 'Pkt Len Min', 'Pkt Len Max', 'Pkt Len Mean',\n",
    "#        'Pkt Len Std', 'Pkt Len Var', 'FIN Flag Cnt', 'SYN Flag Cnt',\n",
    "#        'RST Flag Cnt', 'PSH Flag Cnt', 'ACK Flag Cnt', 'URG Flag Cnt',\n",
    "#        'CWE Flag Count', 'ECE Flag Cnt', 'Down/Up Ratio', 'Pkt Size Avg',\n",
    "#        'Fwd Seg Size Avg', 'Bwd Seg Size Avg', 'Fwd Byts/b Avg',\n",
    "#        'Fwd Pkts/b Avg', 'Fwd Blk Rate Avg', 'Bwd Byts/b Avg',\n",
    "#        'Bwd Pkts/b Avg', 'Bwd Blk Rate Avg', 'Subflow Fwd Pkts',\n",
    "#        'Subflow Fwd Byts', 'Subflow Bwd Pkts', 'Subflow Bwd Byts',\n",
    "#        'Init Fwd Win Byts', 'Init Bwd Win Byts', 'Fwd Act Data Pkts',\n",
    "#        'Fwd Seg Size Min', 'Active Mean', 'Active Std', 'Active Max',\n",
    "#        'Active Min', 'Idle Mean', 'Idle Std', 'Idle Max', 'Idle Min']"
   ]
  },
  {
   "cell_type": "code",
   "execution_count": 5,
   "metadata": {},
   "outputs": [],
   "source": [
    "features = ['Fwd Seg Size Min', 'Init Fwd Win Byts', 'Bwd Pkt Len Max', 'Bwd IAT Mean', 'Fwd IAT Min', 'Flow IAT Min', 'Flow IAT Mean', 'Bwd IAT Max', 'Fwd IAT Mean', 'Fwd IAT Tot']"
   ]
  },
  {
   "cell_type": "code",
   "execution_count": 6,
   "metadata": {},
   "outputs": [],
   "source": [
    "def targetify(s):\n",
    "    if s == 'Benign':\n",
    "        return 0\n",
    "    else:\n",
    "        return 1"
   ]
  },
  {
   "cell_type": "code",
   "execution_count": 7,
   "metadata": {},
   "outputs": [
    {
     "name": "stderr",
     "output_type": "stream",
     "text": [
      "/opt/anaconda3/lib/python3.7/site-packages/pandas/core/frame.py:3391: SettingWithCopyWarning: \n",
      "A value is trying to be set on a copy of a slice from a DataFrame.\n",
      "Try using .loc[row_indexer,col_indexer] = value instead\n",
      "\n",
      "See the caveats in the documentation: http://pandas.pydata.org/pandas-docs/stable/indexing.html#indexing-view-versus-copy\n",
      "  self[k1] = value[k2]\n"
     ]
    }
   ],
   "source": [
    "num_col = data.shape[1]\n",
    "num_row = data.shape[0]\n",
    "\n",
    "X_data = data[features]\n",
    "X_data[features] = X_data[features].apply(pd.to_numeric, errors='coerce', axis=1)\n",
    "min_max_scaler = preprocessing.MinMaxScaler()\n",
    "x_scaled = min_max_scaler.fit_transform(X_data.values)\n",
    "X = pd.DataFrame(np.nan_to_num(x_scaled))\n",
    "if len(X.shape) < 3:\n",
    "    X = np.atleast_3d(X)\n",
    "y = data['Label'].apply(targetify)"
   ]
  },
  {
   "cell_type": "code",
   "execution_count": 8,
   "metadata": {},
   "outputs": [
    {
     "data": {
      "text/plain": [
       "((524288, 10, 1), (524288,))"
      ]
     },
     "execution_count": 8,
     "metadata": {},
     "output_type": "execute_result"
    }
   ],
   "source": [
    "X.shape, y.shape"
   ]
  },
  {
   "cell_type": "code",
   "execution_count": 9,
   "metadata": {},
   "outputs": [
    {
     "name": "stdout",
     "output_type": "stream",
     "text": [
      "(131072, 10, 1) (131072,)\n",
      "(393216, 10, 1) (393216,)\n"
     ]
    }
   ],
   "source": [
    "X_train, X_test, y_train, y_test = train_test_split(X, y, test_size=0.75)\n",
    "\n",
    "# Working with 0.01% of the data for now because my laptop sucks\n",
    "#X_train2 = X_train.sample(frac=0.0005, replace=True, random_state=1)\n",
    "#y_train2 = y_train.sample(frac=0.0005, replace=True, random_state=1)\n",
    "#X_test2 = X_test.sample(frac=0.0005, replace=True, random_state=1)\n",
    "#y_test2 = y_test.sample(frac=0.0005, replace=True, random_state=1)\n",
    "print(X_train.shape, y_train.shape)\n",
    "print(X_test.shape, y_test.shape)"
   ]
  },
  {
   "cell_type": "code",
   "execution_count": 10,
   "metadata": {},
   "outputs": [],
   "source": [
    "pca = PCA() #n_components gives number of components to keep for linear dimensionality reduction\n",
    "ridge_embedding = Ridge(alpha=10, fit_intercept=True)\n",
    "readout = Ridge(alpha=5)"
   ]
  },
  {
   "cell_type": "markdown",
   "metadata": {},
   "source": [
    "# Changing # of internal units\n",
    "Using 50% of the dataset, 10 features, 5 internal units"
   ]
  },
  {
   "cell_type": "code",
   "execution_count": 11,
   "metadata": {},
   "outputs": [],
   "source": [
    "res = Reservoir(n_internal_units=5, spectral_radius=0.6, leak=0.6,\n",
    "                 connectivity=0.25, input_scaling=0.1, noise_level=0.01, circle=False)"
   ]
  },
  {
   "cell_type": "code",
   "execution_count": 12,
   "metadata": {},
   "outputs": [],
   "source": [
    "input_repr = res.getReservoirEmbedding(np.array(X_train), pca, ridge_embedding,  n_drop=5, bidir=False, test = False)"
   ]
  },
  {
   "cell_type": "code",
   "execution_count": 13,
   "metadata": {},
   "outputs": [],
   "source": [
    "input_repr_te = res.getReservoirEmbedding(np.array(X_test), pca, ridge_embedding,  n_drop=5, bidir=False, test = True)"
   ]
  },
  {
   "cell_type": "code",
   "execution_count": 14,
   "metadata": {},
   "outputs": [
    {
     "name": "stdout",
     "output_type": "stream",
     "text": [
      "[ 0.05476859 -0.04400997 -0.05940531 ...  0.11196675  0.1573708\n",
      " -0.05228745]\n",
      "0\n"
     ]
    }
   ],
   "source": [
    "readout.fit(input_repr, y_train)\n",
    "pred_class = readout.predict(input_repr_te)\n",
    "print(pred_class)\n",
    "predictions = [int(round(x)) for x in pred_class]\n",
    "print(np.count_nonzero(predictions))"
   ]
  },
  {
   "cell_type": "code",
   "execution_count": 15,
   "metadata": {},
   "outputs": [],
   "source": [
    "true_class = list(y_test)"
   ]
  },
  {
   "cell_type": "code",
   "execution_count": 19,
   "metadata": {},
   "outputs": [],
   "source": [
    "df = pd.DataFrame({'pred_class':pred_class, 'true_class':true_class})\n",
    "df = df.sort_values('pred_class', ascending=False)"
   ]
  },
  {
   "cell_type": "code",
   "execution_count": 20,
   "metadata": {},
   "outputs": [],
   "source": [
    "df.to_csv('results_0.5_10_5.csv')"
   ]
  },
  {
   "cell_type": "code",
   "execution_count": 21,
   "metadata": {},
   "outputs": [
    {
     "data": {
      "text/plain": [
       "0.9499969482421875"
      ]
     },
     "execution_count": 21,
     "metadata": {},
     "output_type": "execute_result"
    }
   ],
   "source": [
    "def eqArray(a,b):\n",
    "    return np.where(a == b, 1, 0)\n",
    "\n",
    "np.sum(list(map(eqArray, predictions, true_class))) / len(true_class)\n",
    "\n",
    "#accuracy_score(true_class, pred_class, normalize=False)"
   ]
  },
  {
   "cell_type": "markdown",
   "metadata": {},
   "source": [
    "Using 50% of the dataset, 10 features, 10 internal units"
   ]
  },
  {
   "cell_type": "code",
   "execution_count": 30,
   "metadata": {},
   "outputs": [],
   "source": [
    "res = Reservoir(n_internal_units=10, spectral_radius=0.6, leak=0.6,\n",
    "                 connectivity=0.25, input_scaling=0.1, noise_level=0.01, circle=False)"
   ]
  },
  {
   "cell_type": "code",
   "execution_count": 31,
   "metadata": {},
   "outputs": [
    {
     "data": {
      "text/plain": [
       "array([[ 2.25659963e-04, -1.42649349e-04,  1.73539492e-04, ...,\n",
       "        -1.37841530e-04,  1.48743551e-03, -2.49790989e-03],\n",
       "       [ 1.07158278e-05,  4.81017286e-05,  2.99228292e-05, ...,\n",
       "        -3.08480095e-03, -1.01975257e-03, -2.14090261e-03],\n",
       "       [-2.37777903e-05,  2.67257324e-05,  4.75751928e-05, ...,\n",
       "         1.71379704e-03,  3.51352758e-04, -3.19495580e-04],\n",
       "       ...,\n",
       "       [ 1.59754603e-04, -2.55475548e-05,  4.11445377e-04, ...,\n",
       "        -2.68032602e-03,  6.50308939e-04, -2.73899293e-03],\n",
       "       [ 1.28617368e-03, -8.83345639e-04,  3.11659642e-04, ...,\n",
       "         9.85300412e-04, -6.63025907e-05, -8.00904197e-04],\n",
       "       [-3.08221620e-06, -3.76070711e-05,  3.77970104e-05, ...,\n",
       "         1.16210023e-03, -4.81899655e-04,  1.58700907e-03]])"
      ]
     },
     "execution_count": 31,
     "metadata": {},
     "output_type": "execute_result"
    }
   ],
   "source": [
    "input_repr = res.getReservoirEmbedding(np.array(X_train), pca, ridge_embedding,  n_drop=5, bidir=False, test = False)\n",
    "input_repr"
   ]
  },
  {
   "cell_type": "code",
   "execution_count": 32,
   "metadata": {},
   "outputs": [
    {
     "data": {
      "text/plain": [
       "array([[ 1.88748946e-04, -1.77526562e-04, -1.66993238e-05, ...,\n",
       "        -7.72788784e-05,  6.50809076e-04, -4.31129275e-04],\n",
       "       [ 6.77046164e-06,  5.63176869e-06,  1.86921682e-05, ...,\n",
       "         4.98619548e-04, -1.49953954e-03,  1.95601476e-04],\n",
       "       [ 5.49031536e-06,  7.41776605e-06,  7.89243959e-06, ...,\n",
       "        -2.50221153e-03,  8.49649748e-04, -7.21088086e-04],\n",
       "       ...,\n",
       "       [ 2.05569091e-05, -1.74666605e-06,  1.99202573e-04, ...,\n",
       "         6.20133466e-04,  1.74525017e-03,  6.02902579e-04],\n",
       "       [ 1.70269486e-05, -3.98875124e-07,  2.70031713e-04, ...,\n",
       "         1.76196936e-03,  2.69422220e-04,  6.47542951e-04],\n",
       "       [-1.95909665e-05,  4.59862370e-06,  3.95693855e-05, ...,\n",
       "         2.03730079e-04,  3.00013049e-03,  3.09561711e-03]])"
      ]
     },
     "execution_count": 32,
     "metadata": {},
     "output_type": "execute_result"
    }
   ],
   "source": [
    "input_repr_te = res.getReservoirEmbedding(np.array(X_test), pca, ridge_embedding,  n_drop=5, bidir=False, test = True)\n",
    "input_repr_te"
   ]
  },
  {
   "cell_type": "code",
   "execution_count": 33,
   "metadata": {},
   "outputs": [
    {
     "name": "stdout",
     "output_type": "stream",
     "text": [
      "[ 0.07295991 -0.01904003 -0.00768316 ...  0.14255407  0.1379468\n",
      " -0.06404667]\n",
      "0\n"
     ]
    }
   ],
   "source": [
    "readout.fit(input_repr, y_train)\n",
    "pred_class = readout.predict(input_repr_te)\n",
    "print(pred_class)\n",
    "predictions = [int(round(x)) for x in pred_class]\n",
    "print(np.count_nonzero(predictions))"
   ]
  },
  {
   "cell_type": "code",
   "execution_count": 34,
   "metadata": {},
   "outputs": [],
   "source": [
    "true_class = list(y_test)"
   ]
  },
  {
   "cell_type": "code",
   "execution_count": 35,
   "metadata": {},
   "outputs": [],
   "source": [
    "df = pd.DataFrame({'pred_class':pred_class, 'true_class':true_class})\n",
    "df = df.sort_values('pred_class', ascending=False)"
   ]
  },
  {
   "cell_type": "code",
   "execution_count": 36,
   "metadata": {},
   "outputs": [],
   "source": [
    "df.to_csv('results_0.5_10_10.csv')"
   ]
  },
  {
   "cell_type": "code",
   "execution_count": 37,
   "metadata": {},
   "outputs": [
    {
     "data": {
      "text/plain": [
       "0.9499969482421875"
      ]
     },
     "execution_count": 37,
     "metadata": {},
     "output_type": "execute_result"
    }
   ],
   "source": [
    "def eqArray(a,b):\n",
    "    return np.where(a == b, 1, 0)\n",
    "\n",
    "np.sum(list(map(eqArray, predictions, true_class))) / len(true_class)"
   ]
  },
  {
   "cell_type": "markdown",
   "metadata": {},
   "source": [
    "Using 50% of the dataset, 10 features, 15 internal units"
   ]
  },
  {
   "cell_type": "code",
   "execution_count": 22,
   "metadata": {},
   "outputs": [],
   "source": [
    "res = Reservoir(n_internal_units=15, spectral_radius=0.6, leak=0.6,\n",
    "                 connectivity=0.25, input_scaling=0.1, noise_level=0.01, circle=False)"
   ]
  },
  {
   "cell_type": "code",
   "execution_count": 23,
   "metadata": {},
   "outputs": [
    {
     "data": {
      "text/plain": [
       "array([[ 2.90381479e-04, -7.45808866e-04,  2.59981747e-04, ...,\n",
       "        -8.89440435e-04, -5.21813538e-04,  3.78180570e-04],\n",
       "       [-7.85279480e-05, -1.02692144e-04,  1.37144577e-04, ...,\n",
       "         1.87454599e-03,  1.01951171e-04,  2.43643233e-04],\n",
       "       [-1.60544566e-05,  6.38639421e-07,  9.56687334e-06, ...,\n",
       "         2.07238516e-03, -2.11093355e-03, -2.50821483e-04],\n",
       "       ...,\n",
       "       [ 5.42912573e-04, -1.66669625e-03,  2.25633277e-04, ...,\n",
       "         1.31629135e-03, -2.33994652e-03, -1.86783770e-03],\n",
       "       [ 1.19945789e-03, -2.94509942e-03,  5.16684703e-04, ...,\n",
       "        -6.89148991e-04, -1.97991466e-03, -7.73689522e-04],\n",
       "       [-4.08305470e-05, -1.17015565e-04,  1.15919114e-04, ...,\n",
       "        -3.71325027e-03,  1.03504254e-03,  1.05640727e-03]])"
      ]
     },
     "execution_count": 23,
     "metadata": {},
     "output_type": "execute_result"
    }
   ],
   "source": [
    "input_repr = res.getReservoirEmbedding(np.array(X_train), pca, ridge_embedding,  n_drop=5, bidir=False, test = False)\n",
    "input_repr"
   ]
  },
  {
   "cell_type": "code",
   "execution_count": 24,
   "metadata": {},
   "outputs": [
    {
     "data": {
      "text/plain": [
       "array([[ 6.33405385e-05, -4.45267094e-04,  6.43532341e-05, ...,\n",
       "         2.91614745e-03, -1.11913948e-03,  2.31431646e-03],\n",
       "       [-1.37389415e-05, -2.14771416e-05,  8.60692494e-06, ...,\n",
       "         5.39520825e-04,  2.57789446e-03, -8.75540229e-04],\n",
       "       [-1.87057909e-05, -8.21976622e-07,  1.30422329e-05, ...,\n",
       "         2.37446940e-04, -4.18232521e-05, -5.92005871e-04],\n",
       "       ...,\n",
       "       [ 5.54069029e-04, -1.91219159e-03,  1.73656897e-04, ...,\n",
       "         2.71629150e-03,  1.73176226e-03, -5.74150088e-04],\n",
       "       [ 4.38478037e-04, -1.38687488e-03,  1.57951166e-04, ...,\n",
       "         8.04158029e-04,  1.30543889e-05,  9.77362003e-04],\n",
       "       [-6.56146204e-06, -2.39881917e-05,  2.28435470e-05, ...,\n",
       "        -6.93058440e-04,  1.33450285e-03, -6.39709706e-04]])"
      ]
     },
     "execution_count": 24,
     "metadata": {},
     "output_type": "execute_result"
    }
   ],
   "source": [
    "input_repr_te = res.getReservoirEmbedding(np.array(X_test), pca, ridge_embedding,  n_drop=5, bidir=False, test = True)\n",
    "input_repr_te"
   ]
  },
  {
   "cell_type": "code",
   "execution_count": 25,
   "metadata": {},
   "outputs": [
    {
     "name": "stdout",
     "output_type": "stream",
     "text": [
      "[ 0.06262571 -0.01896104 -0.05851126 ...  0.14705568  0.13050566\n",
      " -0.06996091]\n",
      "0\n"
     ]
    }
   ],
   "source": [
    "readout.fit(input_repr, y_train)\n",
    "pred_class = readout.predict(input_repr_te)\n",
    "print(pred_class)\n",
    "predictions = [int(round(x)) for x in pred_class]\n",
    "print(np.count_nonzero(predictions))"
   ]
  },
  {
   "cell_type": "code",
   "execution_count": 26,
   "metadata": {},
   "outputs": [],
   "source": [
    "true_class = list(y_test)"
   ]
  },
  {
   "cell_type": "code",
   "execution_count": 27,
   "metadata": {},
   "outputs": [],
   "source": [
    "df = pd.DataFrame({'pred_class':pred_class, 'true_class':true_class})\n",
    "df = df.sort_values('pred_class', ascending=False)"
   ]
  },
  {
   "cell_type": "code",
   "execution_count": 28,
   "metadata": {},
   "outputs": [],
   "source": [
    "df.to_csv('results_0.5_10_15.csv')"
   ]
  },
  {
   "cell_type": "code",
   "execution_count": 29,
   "metadata": {},
   "outputs": [
    {
     "data": {
      "text/plain": [
       "0.9499969482421875"
      ]
     },
     "execution_count": 29,
     "metadata": {},
     "output_type": "execute_result"
    }
   ],
   "source": [
    "def eqArray(a,b):\n",
    "    return np.where(a == b, 1, 0)\n",
    "\n",
    "np.sum(list(map(eqArray, predictions, true_class))) / len(true_class)"
   ]
  },
  {
   "cell_type": "markdown",
   "metadata": {},
   "source": [
    "Using 50% of the dataset, 10 features, 25 internal units"
   ]
  },
  {
   "cell_type": "code",
   "execution_count": 38,
   "metadata": {},
   "outputs": [],
   "source": [
    "res = Reservoir(n_internal_units=25, spectral_radius=0.6, leak=0.6,\n",
    "                 connectivity=0.25, input_scaling=0.1, noise_level=0.01, circle=False)"
   ]
  },
  {
   "cell_type": "code",
   "execution_count": 39,
   "metadata": {},
   "outputs": [
    {
     "data": {
      "text/plain": [
       "array([[ 0.00217089, -0.00194204, -0.0007908 , ...,  0.00206354,\n",
       "         0.00073781, -0.00178357],\n",
       "       [ 0.00052123, -0.00046758, -0.00125267, ..., -0.00044201,\n",
       "         0.0013192 , -0.00123976],\n",
       "       [ 0.00013131, -0.00023071, -0.00023145, ...,  0.00189205,\n",
       "        -0.00051831,  0.00085522],\n",
       "       ...,\n",
       "       [ 0.0044493 , -0.00460986, -0.00099087, ...,  0.00020291,\n",
       "        -0.00310414, -0.000312  ],\n",
       "       [ 0.00933021, -0.00862896, -0.00235723, ...,  0.00169616,\n",
       "        -0.00066229, -0.0004821 ],\n",
       "       [ 0.00049286, -0.00050942, -0.00103795, ..., -0.00034316,\n",
       "         0.00061552, -0.00177724]])"
      ]
     },
     "execution_count": 39,
     "metadata": {},
     "output_type": "execute_result"
    }
   ],
   "source": [
    "input_repr = res.getReservoirEmbedding(np.array(X_train), pca, ridge_embedding,  n_drop=5, bidir=False, test = False)\n",
    "input_repr"
   ]
  },
  {
   "cell_type": "code",
   "execution_count": 40,
   "metadata": {},
   "outputs": [
    {
     "ename": "MemoryError",
     "evalue": "Unable to allocate array with shape (393216, 2500) and data type float64",
     "output_type": "error",
     "traceback": [
      "\u001b[0;31m---------------------------------------------------------------------------\u001b[0m",
      "\u001b[0;31mMemoryError\u001b[0m                               Traceback (most recent call last)",
      "\u001b[0;32m<ipython-input-40-7ac1750d4f48>\u001b[0m in \u001b[0;36m<module>\u001b[0;34m\u001b[0m\n\u001b[0;32m----> 1\u001b[0;31m \u001b[0minput_repr_te\u001b[0m \u001b[0;34m=\u001b[0m \u001b[0mres\u001b[0m\u001b[0;34m.\u001b[0m\u001b[0mgetReservoirEmbedding\u001b[0m\u001b[0;34m(\u001b[0m\u001b[0mnp\u001b[0m\u001b[0;34m.\u001b[0m\u001b[0marray\u001b[0m\u001b[0;34m(\u001b[0m\u001b[0mX_test\u001b[0m\u001b[0;34m)\u001b[0m\u001b[0;34m,\u001b[0m \u001b[0mpca\u001b[0m\u001b[0;34m,\u001b[0m \u001b[0mridge_embedding\u001b[0m\u001b[0;34m,\u001b[0m  \u001b[0mn_drop\u001b[0m\u001b[0;34m=\u001b[0m\u001b[0;36m5\u001b[0m\u001b[0;34m,\u001b[0m \u001b[0mbidir\u001b[0m\u001b[0;34m=\u001b[0m\u001b[0;32mFalse\u001b[0m\u001b[0;34m,\u001b[0m \u001b[0mtest\u001b[0m \u001b[0;34m=\u001b[0m \u001b[0;32mTrue\u001b[0m\u001b[0;34m)\u001b[0m\u001b[0;34m\u001b[0m\u001b[0;34m\u001b[0m\u001b[0m\n\u001b[0m\u001b[1;32m      2\u001b[0m \u001b[0minput_repr_te\u001b[0m\u001b[0;34m\u001b[0m\u001b[0;34m\u001b[0m\u001b[0m\n",
      "\u001b[0;32m<ipython-input-2-b6f002f14b2b>\u001b[0m in \u001b[0;36mgetReservoirEmbedding\u001b[0;34m(self, X, pca, ridge_embedding, n_drop, bidir, test)\u001b[0m\n\u001b[1;32m    133\u001b[0m             \u001b[0mbiases_tr\u001b[0m\u001b[0;34m.\u001b[0m\u001b[0mappend\u001b[0m\u001b[0;34m(\u001b[0m\u001b[0mridge_embedding\u001b[0m\u001b[0;34m.\u001b[0m\u001b[0mintercept_\u001b[0m\u001b[0;34m.\u001b[0m\u001b[0mravel\u001b[0m\u001b[0;34m(\u001b[0m\u001b[0;34m)\u001b[0m\u001b[0;34m)\u001b[0m\u001b[0;34m\u001b[0m\u001b[0;34m\u001b[0m\u001b[0m\n\u001b[1;32m    134\u001b[0m         \u001b[0;31m#print(np.array(coeff_tr).shape,np.array(biases_tr).shape)\u001b[0m\u001b[0;34m\u001b[0m\u001b[0;34m\u001b[0m\u001b[0;34m\u001b[0m\u001b[0m\n\u001b[0;32m--> 135\u001b[0;31m         \u001b[0minput_repr\u001b[0m \u001b[0;34m=\u001b[0m \u001b[0mnp\u001b[0m\u001b[0;34m.\u001b[0m\u001b[0mconcatenate\u001b[0m\u001b[0;34m(\u001b[0m\u001b[0;34m(\u001b[0m\u001b[0mnp\u001b[0m\u001b[0;34m.\u001b[0m\u001b[0mvstack\u001b[0m\u001b[0;34m(\u001b[0m\u001b[0mcoeff_tr\u001b[0m\u001b[0;34m)\u001b[0m\u001b[0;34m,\u001b[0m \u001b[0mnp\u001b[0m\u001b[0;34m.\u001b[0m\u001b[0mvstack\u001b[0m\u001b[0;34m(\u001b[0m\u001b[0mbiases_tr\u001b[0m\u001b[0;34m)\u001b[0m\u001b[0;34m)\u001b[0m\u001b[0;34m,\u001b[0m \u001b[0maxis\u001b[0m\u001b[0;34m=\u001b[0m\u001b[0;36m1\u001b[0m\u001b[0;34m)\u001b[0m\u001b[0;34m\u001b[0m\u001b[0;34m\u001b[0m\u001b[0m\n\u001b[0m\u001b[1;32m    136\u001b[0m         \u001b[0;32mreturn\u001b[0m \u001b[0minput_repr\u001b[0m\u001b[0;34m\u001b[0m\u001b[0;34m\u001b[0m\u001b[0m\n",
      "\u001b[0;32m<__array_function__ internals>\u001b[0m in \u001b[0;36mvstack\u001b[0;34m(*args, **kwargs)\u001b[0m\n",
      "\u001b[0;32m/opt/anaconda3/lib/python3.7/site-packages/numpy/core/shape_base.py\u001b[0m in \u001b[0;36mvstack\u001b[0;34m(tup)\u001b[0m\n\u001b[1;32m    280\u001b[0m     \u001b[0;32mif\u001b[0m \u001b[0;32mnot\u001b[0m \u001b[0misinstance\u001b[0m\u001b[0;34m(\u001b[0m\u001b[0marrs\u001b[0m\u001b[0;34m,\u001b[0m \u001b[0mlist\u001b[0m\u001b[0;34m)\u001b[0m\u001b[0;34m:\u001b[0m\u001b[0;34m\u001b[0m\u001b[0;34m\u001b[0m\u001b[0m\n\u001b[1;32m    281\u001b[0m         \u001b[0marrs\u001b[0m \u001b[0;34m=\u001b[0m \u001b[0;34m[\u001b[0m\u001b[0marrs\u001b[0m\u001b[0;34m]\u001b[0m\u001b[0;34m\u001b[0m\u001b[0;34m\u001b[0m\u001b[0m\n\u001b[0;32m--> 282\u001b[0;31m     \u001b[0;32mreturn\u001b[0m \u001b[0m_nx\u001b[0m\u001b[0;34m.\u001b[0m\u001b[0mconcatenate\u001b[0m\u001b[0;34m(\u001b[0m\u001b[0marrs\u001b[0m\u001b[0;34m,\u001b[0m \u001b[0;36m0\u001b[0m\u001b[0;34m)\u001b[0m\u001b[0;34m\u001b[0m\u001b[0;34m\u001b[0m\u001b[0m\n\u001b[0m\u001b[1;32m    283\u001b[0m \u001b[0;34m\u001b[0m\u001b[0m\n\u001b[1;32m    284\u001b[0m \u001b[0;34m\u001b[0m\u001b[0m\n",
      "\u001b[0;32m<__array_function__ internals>\u001b[0m in \u001b[0;36mconcatenate\u001b[0;34m(*args, **kwargs)\u001b[0m\n",
      "\u001b[0;31mMemoryError\u001b[0m: Unable to allocate array with shape (393216, 2500) and data type float64"
     ]
    }
   ],
   "source": [
    "input_repr_te = res.getReservoirEmbedding(np.array(X_test), pca, ridge_embedding,  n_drop=5, bidir=False, test = True)\n",
    "input_repr_te"
   ]
  },
  {
   "cell_type": "code",
   "execution_count": null,
   "metadata": {},
   "outputs": [],
   "source": [
    "readout.fit(input_repr, y_train)\n",
    "pred_class = readout.predict(input_repr_te)\n",
    "print(pred_class)\n",
    "predictions = [int(round(x)) for x in pred_class]\n",
    "print(np.count_nonzero(predictions))"
   ]
  },
  {
   "cell_type": "code",
   "execution_count": null,
   "metadata": {},
   "outputs": [],
   "source": [
    "true_class = list(y_test)"
   ]
  },
  {
   "cell_type": "code",
   "execution_count": null,
   "metadata": {},
   "outputs": [],
   "source": [
    "df = pd.DataFrame({'pred_class':pred_class, 'true_class':true_class})\n",
    "df = df.sort_values('pred_class', ascending=False)"
   ]
  },
  {
   "cell_type": "code",
   "execution_count": null,
   "metadata": {},
   "outputs": [],
   "source": [
    "df.to_csv('results_0.5_10_10.csv')"
   ]
  },
  {
   "cell_type": "code",
   "execution_count": null,
   "metadata": {},
   "outputs": [],
   "source": [
    "def eqArray(a,b):\n",
    "    return np.where(a == b, 1, 0)\n",
    "\n",
    "np.sum(list(map(eqArray, predictions, true_class))) / len(true_class)"
   ]
  },
  {
   "cell_type": "markdown",
   "metadata": {},
   "source": [
    "# Changing the % of dataset"
   ]
  },
  {
   "cell_type": "markdown",
   "metadata": {},
   "source": [
    "# Using 75% of the dataset, 10 features, 5 internal units"
   ]
  },
  {
   "cell_type": "code",
   "execution_count": 3,
   "metadata": {},
   "outputs": [
    {
     "name": "stderr",
     "output_type": "stream",
     "text": [
      "/opt/anaconda3/lib/python3.7/site-packages/IPython/core/interactiveshell.py:3049: DtypeWarning: Columns (16,17) have mixed types. Specify dtype option on import or set low_memory=False.\n",
      "  interactivity=interactivity, compiler=compiler, result=result)\n"
     ]
    },
    {
     "data": {
      "text/html": [
       "<div>\n",
       "<style scoped>\n",
       "    .dataframe tbody tr th:only-of-type {\n",
       "        vertical-align: middle;\n",
       "    }\n",
       "\n",
       "    .dataframe tbody tr th {\n",
       "        vertical-align: top;\n",
       "    }\n",
       "\n",
       "    .dataframe thead th {\n",
       "        text-align: right;\n",
       "    }\n",
       "</style>\n",
       "<table border=\"1\" class=\"dataframe\">\n",
       "  <thead>\n",
       "    <tr style=\"text-align: right;\">\n",
       "      <th></th>\n",
       "      <th>Dst Port</th>\n",
       "      <th>Protocol</th>\n",
       "      <th>Timestamp</th>\n",
       "      <th>Flow Duration</th>\n",
       "      <th>Tot Fwd Pkts</th>\n",
       "      <th>Tot Bwd Pkts</th>\n",
       "      <th>TotLen Fwd Pkts</th>\n",
       "      <th>TotLen Bwd Pkts</th>\n",
       "      <th>Fwd Pkt Len Max</th>\n",
       "      <th>Fwd Pkt Len Min</th>\n",
       "      <th>...</th>\n",
       "      <th>Fwd Seg Size Min</th>\n",
       "      <th>Active Mean</th>\n",
       "      <th>Active Std</th>\n",
       "      <th>Active Max</th>\n",
       "      <th>Active Min</th>\n",
       "      <th>Idle Mean</th>\n",
       "      <th>Idle Std</th>\n",
       "      <th>Idle Max</th>\n",
       "      <th>Idle Min</th>\n",
       "      <th>Label</th>\n",
       "    </tr>\n",
       "  </thead>\n",
       "  <tbody>\n",
       "    <tr>\n",
       "      <th>128037</th>\n",
       "      <td>53</td>\n",
       "      <td>17</td>\n",
       "      <td>15/02/2018 11:18:07</td>\n",
       "      <td>2261</td>\n",
       "      <td>1</td>\n",
       "      <td>1</td>\n",
       "      <td>49</td>\n",
       "      <td>164</td>\n",
       "      <td>49</td>\n",
       "      <td>49</td>\n",
       "      <td>...</td>\n",
       "      <td>8</td>\n",
       "      <td>0.0</td>\n",
       "      <td>0.0</td>\n",
       "      <td>0</td>\n",
       "      <td>0</td>\n",
       "      <td>0.0</td>\n",
       "      <td>0.0</td>\n",
       "      <td>0</td>\n",
       "      <td>0</td>\n",
       "      <td>Benign</td>\n",
       "    </tr>\n",
       "    <tr>\n",
       "      <th>491755</th>\n",
       "      <td>3389</td>\n",
       "      <td>6</td>\n",
       "      <td>15/02/2018 01:57:33</td>\n",
       "      <td>2837721</td>\n",
       "      <td>9</td>\n",
       "      <td>7</td>\n",
       "      <td>1144</td>\n",
       "      <td>1581</td>\n",
       "      <td>677</td>\n",
       "      <td>0</td>\n",
       "      <td>...</td>\n",
       "      <td>20</td>\n",
       "      <td>0.0</td>\n",
       "      <td>0.0</td>\n",
       "      <td>0</td>\n",
       "      <td>0</td>\n",
       "      <td>0.0</td>\n",
       "      <td>0.0</td>\n",
       "      <td>0</td>\n",
       "      <td>0</td>\n",
       "      <td>Benign</td>\n",
       "    </tr>\n",
       "    <tr>\n",
       "      <th>470924</th>\n",
       "      <td>3389</td>\n",
       "      <td>6</td>\n",
       "      <td>15/02/2018 09:21:14</td>\n",
       "      <td>1645626</td>\n",
       "      <td>8</td>\n",
       "      <td>7</td>\n",
       "      <td>1148</td>\n",
       "      <td>1581</td>\n",
       "      <td>677</td>\n",
       "      <td>0</td>\n",
       "      <td>...</td>\n",
       "      <td>20</td>\n",
       "      <td>0.0</td>\n",
       "      <td>0.0</td>\n",
       "      <td>0</td>\n",
       "      <td>0</td>\n",
       "      <td>0.0</td>\n",
       "      <td>0.0</td>\n",
       "      <td>0</td>\n",
       "      <td>0</td>\n",
       "      <td>Benign</td>\n",
       "    </tr>\n",
       "    <tr>\n",
       "      <th>791624</th>\n",
       "      <td>3389</td>\n",
       "      <td>6</td>\n",
       "      <td>15/02/2018 02:46:24</td>\n",
       "      <td>2486564</td>\n",
       "      <td>8</td>\n",
       "      <td>8</td>\n",
       "      <td>1144</td>\n",
       "      <td>1874</td>\n",
       "      <td>677</td>\n",
       "      <td>0</td>\n",
       "      <td>...</td>\n",
       "      <td>20</td>\n",
       "      <td>0.0</td>\n",
       "      <td>0.0</td>\n",
       "      <td>0</td>\n",
       "      <td>0</td>\n",
       "      <td>0.0</td>\n",
       "      <td>0.0</td>\n",
       "      <td>0</td>\n",
       "      <td>0</td>\n",
       "      <td>Benign</td>\n",
       "    </tr>\n",
       "    <tr>\n",
       "      <th>491263</th>\n",
       "      <td>53</td>\n",
       "      <td>17</td>\n",
       "      <td>15/02/2018 12:34:09</td>\n",
       "      <td>1758</td>\n",
       "      <td>1</td>\n",
       "      <td>1</td>\n",
       "      <td>30</td>\n",
       "      <td>207</td>\n",
       "      <td>30</td>\n",
       "      <td>30</td>\n",
       "      <td>...</td>\n",
       "      <td>8</td>\n",
       "      <td>0.0</td>\n",
       "      <td>0.0</td>\n",
       "      <td>0</td>\n",
       "      <td>0</td>\n",
       "      <td>0.0</td>\n",
       "      <td>0.0</td>\n",
       "      <td>0</td>\n",
       "      <td>0</td>\n",
       "      <td>Benign</td>\n",
       "    </tr>\n",
       "  </tbody>\n",
       "</table>\n",
       "<p>5 rows × 80 columns</p>\n",
       "</div>"
      ],
      "text/plain": [
       "        Dst Port  Protocol            Timestamp  Flow Duration  Tot Fwd Pkts  \\\n",
       "128037        53        17  15/02/2018 11:18:07           2261             1   \n",
       "491755      3389         6  15/02/2018 01:57:33        2837721             9   \n",
       "470924      3389         6  15/02/2018 09:21:14        1645626             8   \n",
       "791624      3389         6  15/02/2018 02:46:24        2486564             8   \n",
       "491263        53        17  15/02/2018 12:34:09           1758             1   \n",
       "\n",
       "        Tot Bwd Pkts  TotLen Fwd Pkts  TotLen Bwd Pkts  Fwd Pkt Len Max  \\\n",
       "128037             1               49              164               49   \n",
       "491755             7             1144             1581              677   \n",
       "470924             7             1148             1581              677   \n",
       "791624             8             1144             1874              677   \n",
       "491263             1               30              207               30   \n",
       "\n",
       "        Fwd Pkt Len Min  ...  Fwd Seg Size Min  Active Mean  Active Std  \\\n",
       "128037               49  ...                 8          0.0         0.0   \n",
       "491755                0  ...                20          0.0         0.0   \n",
       "470924                0  ...                20          0.0         0.0   \n",
       "791624                0  ...                20          0.0         0.0   \n",
       "491263               30  ...                 8          0.0         0.0   \n",
       "\n",
       "        Active Max  Active Min  Idle Mean Idle Std Idle Max  Idle Min   Label  \n",
       "128037           0           0        0.0      0.0        0         0  Benign  \n",
       "491755           0           0        0.0      0.0        0         0  Benign  \n",
       "470924           0           0        0.0      0.0        0         0  Benign  \n",
       "791624           0           0        0.0      0.0        0         0  Benign  \n",
       "491263           0           0        0.0      0.0        0         0  Benign  \n",
       "\n",
       "[5 rows x 80 columns]"
      ]
     },
     "execution_count": 3,
     "metadata": {},
     "output_type": "execute_result"
    }
   ],
   "source": [
    "data = data.sample(frac=0.75, replace=True, random_state=1)\n",
    "data.head()\n",
    "\n",
    "# plot some of it\n",
    "#figure(10).clear()\n",
    "#plot(data[0:1000])\n",
    "#title('A sample of data')"
   ]
  },
  {
   "cell_type": "code",
   "execution_count": 4,
   "metadata": {},
   "outputs": [],
   "source": [
    "# features = ['Flow Duration', 'Tot Fwd Pkts',\n",
    "#        'Tot Bwd Pkts', 'TotLen Fwd Pkts', 'TotLen Bwd Pkts', 'Fwd Pkt Len Max',\n",
    "#        'Fwd Pkt Len Min', 'Fwd Pkt Len Mean', 'Fwd Pkt Len Std',\n",
    "#        'Bwd Pkt Len Max', 'Bwd Pkt Len Min', 'Bwd Pkt Len Mean',\n",
    "#        'Bwd Pkt Len Std', 'Flow Byts/s', 'Flow Pkts/s', 'Flow IAT Mean',\n",
    "#        'Flow IAT Std', 'Flow IAT Max', 'Flow IAT Min', 'Fwd IAT Tot',\n",
    "#        'Fwd IAT Mean', 'Fwd IAT Std', 'Fwd IAT Max', 'Fwd IAT Min',\n",
    "#        'Bwd IAT Tot', 'Bwd IAT Mean', 'Bwd IAT Std', 'Bwd IAT Max',\n",
    "#        'Bwd IAT Min', 'Fwd PSH Flags', 'Bwd PSH Flags', 'Fwd URG Flags',\n",
    "#        'Bwd URG Flags', 'Fwd Header Len', 'Bwd Header Len', 'Fwd Pkts/s',\n",
    "#        'Bwd Pkts/s', 'Pkt Len Min', 'Pkt Len Max', 'Pkt Len Mean',\n",
    "#        'Pkt Len Std', 'Pkt Len Var', 'FIN Flag Cnt', 'SYN Flag Cnt',\n",
    "#        'RST Flag Cnt', 'PSH Flag Cnt', 'ACK Flag Cnt', 'URG Flag Cnt',\n",
    "#        'CWE Flag Count', 'ECE Flag Cnt', 'Down/Up Ratio', 'Pkt Size Avg',\n",
    "#        'Fwd Seg Size Avg', 'Bwd Seg Size Avg', 'Fwd Byts/b Avg',\n",
    "#        'Fwd Pkts/b Avg', 'Fwd Blk Rate Avg', 'Bwd Byts/b Avg',\n",
    "#        'Bwd Pkts/b Avg', 'Bwd Blk Rate Avg', 'Subflow Fwd Pkts',\n",
    "#        'Subflow Fwd Byts', 'Subflow Bwd Pkts', 'Subflow Bwd Byts',\n",
    "#        'Init Fwd Win Byts', 'Init Bwd Win Byts', 'Fwd Act Data Pkts',\n",
    "#        'Fwd Seg Size Min', 'Active Mean', 'Active Std', 'Active Max',\n",
    "#        'Active Min', 'Idle Mean', 'Idle Std', 'Idle Max', 'Idle Min']"
   ]
  },
  {
   "cell_type": "code",
   "execution_count": 5,
   "metadata": {},
   "outputs": [],
   "source": [
    "features = ['Fwd Seg Size Min', 'Init Fwd Win Byts', 'Bwd Pkt Len Max', 'Bwd IAT Mean', 'Fwd IAT Min', 'Flow IAT Min', 'Flow IAT Mean', 'Bwd IAT Max', 'Fwd IAT Mean', 'Fwd IAT Tot']"
   ]
  },
  {
   "cell_type": "code",
   "execution_count": 6,
   "metadata": {},
   "outputs": [],
   "source": [
    "def targetify(s):\n",
    "    if s == 'Benign':\n",
    "        return 0\n",
    "    else:\n",
    "        return 1"
   ]
  },
  {
   "cell_type": "code",
   "execution_count": 7,
   "metadata": {},
   "outputs": [
    {
     "name": "stderr",
     "output_type": "stream",
     "text": [
      "/opt/anaconda3/lib/python3.7/site-packages/pandas/core/frame.py:3391: SettingWithCopyWarning: \n",
      "A value is trying to be set on a copy of a slice from a DataFrame.\n",
      "Try using .loc[row_indexer,col_indexer] = value instead\n",
      "\n",
      "See the caveats in the documentation: http://pandas.pydata.org/pandas-docs/stable/indexing.html#indexing-view-versus-copy\n",
      "  self[k1] = value[k2]\n"
     ]
    }
   ],
   "source": [
    "num_col = data.shape[1]\n",
    "num_row = data.shape[0]\n",
    "\n",
    "X_data = data[features]\n",
    "X_data[features] = X_data[features].apply(pd.to_numeric, errors='coerce', axis=1)\n",
    "min_max_scaler = preprocessing.MinMaxScaler()\n",
    "x_scaled = min_max_scaler.fit_transform(X_data.values)\n",
    "X = pd.DataFrame(np.nan_to_num(x_scaled))\n",
    "if len(X.shape) < 3:\n",
    "    X = np.atleast_3d(X)\n",
    "y = data['Label'].apply(targetify)"
   ]
  },
  {
   "cell_type": "code",
   "execution_count": 8,
   "metadata": {},
   "outputs": [
    {
     "data": {
      "text/plain": [
       "((524288, 10, 1), (524288,))"
      ]
     },
     "execution_count": 8,
     "metadata": {},
     "output_type": "execute_result"
    }
   ],
   "source": [
    "X.shape, y.shape"
   ]
  },
  {
   "cell_type": "code",
   "execution_count": 9,
   "metadata": {},
   "outputs": [
    {
     "name": "stdout",
     "output_type": "stream",
     "text": [
      "(131072, 10, 1) (131072,)\n",
      "(393216, 10, 1) (393216,)\n"
     ]
    }
   ],
   "source": [
    "X_train, X_test, y_train, y_test = train_test_split(X, y, test_size=0.75)\n",
    "\n",
    "# Working with 0.01% of the data for now because my laptop sucks\n",
    "#X_train2 = X_train.sample(frac=0.0005, replace=True, random_state=1)\n",
    "#y_train2 = y_train.sample(frac=0.0005, replace=True, random_state=1)\n",
    "#X_test2 = X_test.sample(frac=0.0005, replace=True, random_state=1)\n",
    "#y_test2 = y_test.sample(frac=0.0005, replace=True, random_state=1)\n",
    "print(X_train.shape, y_train.shape)\n",
    "print(X_test.shape, y_test.shape)"
   ]
  },
  {
   "cell_type": "code",
   "execution_count": 10,
   "metadata": {},
   "outputs": [],
   "source": [
    "pca = PCA() #n_components gives number of components to keep for linear dimensionality reduction\n",
    "ridge_embedding = Ridge(alpha=10, fit_intercept=True)\n",
    "readout = Ridge(alpha=5)"
   ]
  },
  {
   "cell_type": "markdown",
   "metadata": {},
   "source": [
    "# Using 50% of the dataset, 10 features, 5 internal units"
   ]
  },
  {
   "cell_type": "code",
   "execution_count": 11,
   "metadata": {},
   "outputs": [],
   "source": [
    "res = Reservoir(n_internal_units=5, spectral_radius=0.6, leak=0.6,\n",
    "                 connectivity=0.25, input_scaling=0.1, noise_level=0.01, circle=False)"
   ]
  },
  {
   "cell_type": "code",
   "execution_count": 12,
   "metadata": {},
   "outputs": [],
   "source": [
    "input_repr = res.getReservoirEmbedding(np.array(X_train), pca, ridge_embedding,  n_drop=5, bidir=False, test = False)"
   ]
  },
  {
   "cell_type": "code",
   "execution_count": 13,
   "metadata": {},
   "outputs": [],
   "source": [
    "input_repr_te = res.getReservoirEmbedding(np.array(X_test), pca, ridge_embedding,  n_drop=5, bidir=False, test = True)"
   ]
  },
  {
   "cell_type": "code",
   "execution_count": 14,
   "metadata": {},
   "outputs": [
    {
     "name": "stdout",
     "output_type": "stream",
     "text": [
      "[ 0.05476859 -0.04400997 -0.05940531 ...  0.11196675  0.1573708\n",
      " -0.05228745]\n",
      "0\n"
     ]
    }
   ],
   "source": [
    "readout.fit(input_repr, y_train)\n",
    "pred_class = readout.predict(input_repr_te)\n",
    "print(pred_class)\n",
    "predictions = [int(round(x)) for x in pred_class]\n",
    "print(np.count_nonzero(predictions))"
   ]
  },
  {
   "cell_type": "code",
   "execution_count": 15,
   "metadata": {},
   "outputs": [],
   "source": [
    "true_class = list(y_test)"
   ]
  },
  {
   "cell_type": "code",
   "execution_count": 19,
   "metadata": {},
   "outputs": [],
   "source": [
    "df = pd.DataFrame({'pred_class':pred_class, 'true_class':true_class})\n",
    "df = df.sort_values('pred_class', ascending=False)"
   ]
  },
  {
   "cell_type": "code",
   "execution_count": 20,
   "metadata": {},
   "outputs": [],
   "source": [
    "df.to_csv('results_0.5_10_5.csv')"
   ]
  },
  {
   "cell_type": "code",
   "execution_count": 21,
   "metadata": {},
   "outputs": [
    {
     "data": {
      "text/plain": [
       "0.9499969482421875"
      ]
     },
     "execution_count": 21,
     "metadata": {},
     "output_type": "execute_result"
    }
   ],
   "source": [
    "def eqArray(a,b):\n",
    "    return np.where(a == b, 1, 0)\n",
    "\n",
    "np.sum(list(map(eqArray, predictions, true_class))) / len(true_class)\n",
    "\n",
    "#accuracy_score(true_class, pred_class, normalize=False)"
   ]
  },
  {
   "cell_type": "markdown",
   "metadata": {},
   "source": [
    "# Using 50% of the dataset, 10 features, 10 internal units"
   ]
  },
  {
   "cell_type": "code",
   "execution_count": 30,
   "metadata": {},
   "outputs": [],
   "source": [
    "res = Reservoir(n_internal_units=10, spectral_radius=0.6, leak=0.6,\n",
    "                 connectivity=0.25, input_scaling=0.1, noise_level=0.01, circle=False)"
   ]
  },
  {
   "cell_type": "code",
   "execution_count": 31,
   "metadata": {},
   "outputs": [
    {
     "data": {
      "text/plain": [
       "array([[ 2.25659963e-04, -1.42649349e-04,  1.73539492e-04, ...,\n",
       "        -1.37841530e-04,  1.48743551e-03, -2.49790989e-03],\n",
       "       [ 1.07158278e-05,  4.81017286e-05,  2.99228292e-05, ...,\n",
       "        -3.08480095e-03, -1.01975257e-03, -2.14090261e-03],\n",
       "       [-2.37777903e-05,  2.67257324e-05,  4.75751928e-05, ...,\n",
       "         1.71379704e-03,  3.51352758e-04, -3.19495580e-04],\n",
       "       ...,\n",
       "       [ 1.59754603e-04, -2.55475548e-05,  4.11445377e-04, ...,\n",
       "        -2.68032602e-03,  6.50308939e-04, -2.73899293e-03],\n",
       "       [ 1.28617368e-03, -8.83345639e-04,  3.11659642e-04, ...,\n",
       "         9.85300412e-04, -6.63025907e-05, -8.00904197e-04],\n",
       "       [-3.08221620e-06, -3.76070711e-05,  3.77970104e-05, ...,\n",
       "         1.16210023e-03, -4.81899655e-04,  1.58700907e-03]])"
      ]
     },
     "execution_count": 31,
     "metadata": {},
     "output_type": "execute_result"
    }
   ],
   "source": [
    "input_repr = res.getReservoirEmbedding(np.array(X_train), pca, ridge_embedding,  n_drop=5, bidir=False, test = False)\n",
    "input_repr"
   ]
  },
  {
   "cell_type": "code",
   "execution_count": 32,
   "metadata": {},
   "outputs": [
    {
     "data": {
      "text/plain": [
       "array([[ 1.88748946e-04, -1.77526562e-04, -1.66993238e-05, ...,\n",
       "        -7.72788784e-05,  6.50809076e-04, -4.31129275e-04],\n",
       "       [ 6.77046164e-06,  5.63176869e-06,  1.86921682e-05, ...,\n",
       "         4.98619548e-04, -1.49953954e-03,  1.95601476e-04],\n",
       "       [ 5.49031536e-06,  7.41776605e-06,  7.89243959e-06, ...,\n",
       "        -2.50221153e-03,  8.49649748e-04, -7.21088086e-04],\n",
       "       ...,\n",
       "       [ 2.05569091e-05, -1.74666605e-06,  1.99202573e-04, ...,\n",
       "         6.20133466e-04,  1.74525017e-03,  6.02902579e-04],\n",
       "       [ 1.70269486e-05, -3.98875124e-07,  2.70031713e-04, ...,\n",
       "         1.76196936e-03,  2.69422220e-04,  6.47542951e-04],\n",
       "       [-1.95909665e-05,  4.59862370e-06,  3.95693855e-05, ...,\n",
       "         2.03730079e-04,  3.00013049e-03,  3.09561711e-03]])"
      ]
     },
     "execution_count": 32,
     "metadata": {},
     "output_type": "execute_result"
    }
   ],
   "source": [
    "input_repr_te = res.getReservoirEmbedding(np.array(X_test), pca, ridge_embedding,  n_drop=5, bidir=False, test = True)\n",
    "input_repr_te"
   ]
  },
  {
   "cell_type": "code",
   "execution_count": 33,
   "metadata": {},
   "outputs": [
    {
     "name": "stdout",
     "output_type": "stream",
     "text": [
      "[ 0.07295991 -0.01904003 -0.00768316 ...  0.14255407  0.1379468\n",
      " -0.06404667]\n",
      "0\n"
     ]
    }
   ],
   "source": [
    "readout.fit(input_repr, y_train)\n",
    "pred_class = readout.predict(input_repr_te)\n",
    "print(pred_class)\n",
    "predictions = [int(round(x)) for x in pred_class]\n",
    "print(np.count_nonzero(predictions))"
   ]
  },
  {
   "cell_type": "code",
   "execution_count": 34,
   "metadata": {},
   "outputs": [],
   "source": [
    "true_class = list(y_test)"
   ]
  },
  {
   "cell_type": "code",
   "execution_count": 35,
   "metadata": {},
   "outputs": [],
   "source": [
    "df = pd.DataFrame({'pred_class':pred_class, 'true_class':true_class})\n",
    "df = df.sort_values('pred_class', ascending=False)"
   ]
  },
  {
   "cell_type": "code",
   "execution_count": 36,
   "metadata": {},
   "outputs": [],
   "source": [
    "df.to_csv('results_0.5_10_10.csv')"
   ]
  },
  {
   "cell_type": "code",
   "execution_count": 37,
   "metadata": {},
   "outputs": [
    {
     "data": {
      "text/plain": [
       "0.9499969482421875"
      ]
     },
     "execution_count": 37,
     "metadata": {},
     "output_type": "execute_result"
    }
   ],
   "source": [
    "def eqArray(a,b):\n",
    "    return np.where(a == b, 1, 0)\n",
    "\n",
    "np.sum(list(map(eqArray, predictions, true_class))) / len(true_class)"
   ]
  },
  {
   "cell_type": "markdown",
   "metadata": {},
   "source": [
    "# Using 50% of the dataset, 10 features, 15 internal units"
   ]
  },
  {
   "cell_type": "code",
   "execution_count": 22,
   "metadata": {},
   "outputs": [],
   "source": [
    "res = Reservoir(n_internal_units=15, spectral_radius=0.6, leak=0.6,\n",
    "                 connectivity=0.25, input_scaling=0.1, noise_level=0.01, circle=False)"
   ]
  },
  {
   "cell_type": "code",
   "execution_count": 23,
   "metadata": {},
   "outputs": [
    {
     "data": {
      "text/plain": [
       "array([[ 2.90381479e-04, -7.45808866e-04,  2.59981747e-04, ...,\n",
       "        -8.89440435e-04, -5.21813538e-04,  3.78180570e-04],\n",
       "       [-7.85279480e-05, -1.02692144e-04,  1.37144577e-04, ...,\n",
       "         1.87454599e-03,  1.01951171e-04,  2.43643233e-04],\n",
       "       [-1.60544566e-05,  6.38639421e-07,  9.56687334e-06, ...,\n",
       "         2.07238516e-03, -2.11093355e-03, -2.50821483e-04],\n",
       "       ...,\n",
       "       [ 5.42912573e-04, -1.66669625e-03,  2.25633277e-04, ...,\n",
       "         1.31629135e-03, -2.33994652e-03, -1.86783770e-03],\n",
       "       [ 1.19945789e-03, -2.94509942e-03,  5.16684703e-04, ...,\n",
       "        -6.89148991e-04, -1.97991466e-03, -7.73689522e-04],\n",
       "       [-4.08305470e-05, -1.17015565e-04,  1.15919114e-04, ...,\n",
       "        -3.71325027e-03,  1.03504254e-03,  1.05640727e-03]])"
      ]
     },
     "execution_count": 23,
     "metadata": {},
     "output_type": "execute_result"
    }
   ],
   "source": [
    "input_repr = res.getReservoirEmbedding(np.array(X_train), pca, ridge_embedding,  n_drop=5, bidir=False, test = False)\n",
    "input_repr"
   ]
  },
  {
   "cell_type": "code",
   "execution_count": 24,
   "metadata": {},
   "outputs": [
    {
     "data": {
      "text/plain": [
       "array([[ 6.33405385e-05, -4.45267094e-04,  6.43532341e-05, ...,\n",
       "         2.91614745e-03, -1.11913948e-03,  2.31431646e-03],\n",
       "       [-1.37389415e-05, -2.14771416e-05,  8.60692494e-06, ...,\n",
       "         5.39520825e-04,  2.57789446e-03, -8.75540229e-04],\n",
       "       [-1.87057909e-05, -8.21976622e-07,  1.30422329e-05, ...,\n",
       "         2.37446940e-04, -4.18232521e-05, -5.92005871e-04],\n",
       "       ...,\n",
       "       [ 5.54069029e-04, -1.91219159e-03,  1.73656897e-04, ...,\n",
       "         2.71629150e-03,  1.73176226e-03, -5.74150088e-04],\n",
       "       [ 4.38478037e-04, -1.38687488e-03,  1.57951166e-04, ...,\n",
       "         8.04158029e-04,  1.30543889e-05,  9.77362003e-04],\n",
       "       [-6.56146204e-06, -2.39881917e-05,  2.28435470e-05, ...,\n",
       "        -6.93058440e-04,  1.33450285e-03, -6.39709706e-04]])"
      ]
     },
     "execution_count": 24,
     "metadata": {},
     "output_type": "execute_result"
    }
   ],
   "source": [
    "input_repr_te = res.getReservoirEmbedding(np.array(X_test), pca, ridge_embedding,  n_drop=5, bidir=False, test = True)\n",
    "input_repr_te"
   ]
  },
  {
   "cell_type": "code",
   "execution_count": 25,
   "metadata": {},
   "outputs": [
    {
     "name": "stdout",
     "output_type": "stream",
     "text": [
      "[ 0.06262571 -0.01896104 -0.05851126 ...  0.14705568  0.13050566\n",
      " -0.06996091]\n",
      "0\n"
     ]
    }
   ],
   "source": [
    "readout.fit(input_repr, y_train)\n",
    "pred_class = readout.predict(input_repr_te)\n",
    "print(pred_class)\n",
    "predictions = [int(round(x)) for x in pred_class]\n",
    "print(np.count_nonzero(predictions))"
   ]
  },
  {
   "cell_type": "code",
   "execution_count": 26,
   "metadata": {},
   "outputs": [],
   "source": [
    "true_class = list(y_test)"
   ]
  },
  {
   "cell_type": "code",
   "execution_count": 27,
   "metadata": {},
   "outputs": [],
   "source": [
    "df = pd.DataFrame({'pred_class':pred_class, 'true_class':true_class})\n",
    "df = df.sort_values('pred_class', ascending=False)"
   ]
  },
  {
   "cell_type": "code",
   "execution_count": 28,
   "metadata": {},
   "outputs": [],
   "source": [
    "df.to_csv('results_0.5_10_15.csv')"
   ]
  },
  {
   "cell_type": "code",
   "execution_count": 29,
   "metadata": {},
   "outputs": [
    {
     "data": {
      "text/plain": [
       "0.9499969482421875"
      ]
     },
     "execution_count": 29,
     "metadata": {},
     "output_type": "execute_result"
    }
   ],
   "source": [
    "def eqArray(a,b):\n",
    "    return np.where(a == b, 1, 0)\n",
    "\n",
    "np.sum(list(map(eqArray, predictions, true_class))) / len(true_class)"
   ]
  },
  {
   "cell_type": "markdown",
   "metadata": {},
   "source": [
    "# Using 50% of the dataset, 10 features, 25 internal units"
   ]
  },
  {
   "cell_type": "code",
   "execution_count": 38,
   "metadata": {},
   "outputs": [],
   "source": [
    "res = Reservoir(n_internal_units=25, spectral_radius=0.6, leak=0.6,\n",
    "                 connectivity=0.25, input_scaling=0.1, noise_level=0.01, circle=False)"
   ]
  },
  {
   "cell_type": "code",
   "execution_count": 39,
   "metadata": {},
   "outputs": [
    {
     "data": {
      "text/plain": [
       "array([[ 0.00217089, -0.00194204, -0.0007908 , ...,  0.00206354,\n",
       "         0.00073781, -0.00178357],\n",
       "       [ 0.00052123, -0.00046758, -0.00125267, ..., -0.00044201,\n",
       "         0.0013192 , -0.00123976],\n",
       "       [ 0.00013131, -0.00023071, -0.00023145, ...,  0.00189205,\n",
       "        -0.00051831,  0.00085522],\n",
       "       ...,\n",
       "       [ 0.0044493 , -0.00460986, -0.00099087, ...,  0.00020291,\n",
       "        -0.00310414, -0.000312  ],\n",
       "       [ 0.00933021, -0.00862896, -0.00235723, ...,  0.00169616,\n",
       "        -0.00066229, -0.0004821 ],\n",
       "       [ 0.00049286, -0.00050942, -0.00103795, ..., -0.00034316,\n",
       "         0.00061552, -0.00177724]])"
      ]
     },
     "execution_count": 39,
     "metadata": {},
     "output_type": "execute_result"
    }
   ],
   "source": [
    "input_repr = res.getReservoirEmbedding(np.array(X_train), pca, ridge_embedding,  n_drop=5, bidir=False, test = False)\n",
    "input_repr"
   ]
  },
  {
   "cell_type": "code",
   "execution_count": null,
   "metadata": {},
   "outputs": [],
   "source": [
    "input_repr_te = res.getReservoirEmbedding(np.array(X_test), pca, ridge_embedding,  n_drop=5, bidir=False, test = True)\n",
    "input_repr_te"
   ]
  },
  {
   "cell_type": "code",
   "execution_count": null,
   "metadata": {},
   "outputs": [],
   "source": [
    "readout.fit(input_repr, y_train)\n",
    "pred_class = readout.predict(input_repr_te)\n",
    "print(pred_class)\n",
    "predictions = [int(round(x)) for x in pred_class]\n",
    "print(np.count_nonzero(predictions))"
   ]
  },
  {
   "cell_type": "code",
   "execution_count": null,
   "metadata": {},
   "outputs": [],
   "source": [
    "true_class = list(y_test)"
   ]
  },
  {
   "cell_type": "code",
   "execution_count": null,
   "metadata": {},
   "outputs": [],
   "source": [
    "df = pd.DataFrame({'pred_class':pred_class, 'true_class':true_class})\n",
    "df = df.sort_values('pred_class', ascending=False)"
   ]
  },
  {
   "cell_type": "code",
   "execution_count": null,
   "metadata": {},
   "outputs": [],
   "source": [
    "df.to_csv('results_0.5_10_10.csv')"
   ]
  },
  {
   "cell_type": "code",
   "execution_count": null,
   "metadata": {},
   "outputs": [],
   "source": [
    "def eqArray(a,b):\n",
    "    return np.where(a == b, 1, 0)\n",
    "\n",
    "np.sum(list(map(eqArray, predictions, true_class))) / len(true_class)"
   ]
  }
 ],
 "metadata": {
  "kernelspec": {
   "display_name": "Python 3",
   "language": "python",
   "name": "python3"
  },
  "language_info": {
   "codemirror_mode": {
    "name": "ipython",
    "version": 3
   },
   "file_extension": ".py",
   "mimetype": "text/x-python",
   "name": "python",
   "nbconvert_exporter": "python",
   "pygments_lexer": "ipython3",
   "version": "3.7.4"
  }
 },
 "nbformat": 4,
 "nbformat_minor": 4
}
