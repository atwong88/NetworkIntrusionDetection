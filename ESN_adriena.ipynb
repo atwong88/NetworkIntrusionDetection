{
 "cells": [
  {
   "cell_type": "code",
   "execution_count": 3,
   "metadata": {},
   "outputs": [],
   "source": [
    "import numpy as np\n",
    "import pandas as pd\n",
    "import scipy.io\n",
    "from scipy import sparse\n",
    "from sklearn.decomposition import PCA\n",
    "from sklearn.linear_model import Ridge\n",
    "from sklearn.metrics import accuracy_score, f1_score\n",
    "from scipy.stats import zscore\n",
    "from sklearn import preprocessing\n",
    "from sklearn.model_selection import train_test_split\n",
    "import math\n",
    "from matplotlib.pyplot import *"
   ]
  },
  {
   "cell_type": "code",
   "execution_count": 140,
   "metadata": {},
   "outputs": [],
   "source": [
    "class Reservoir(object):\n",
    "    \"\"\"\n",
    "    Build a reservoir and evaluate internal states\n",
    "    \n",
    "    Parameters:\n",
    "        n_internal_units = processing units in the reservoir\n",
    "        spectral_radius = largest eigenvalue of the reservoir matrix of connection weights\n",
    "        leak = amount of leakage in the reservoir state update (optional)\n",
    "        connectivity = percentage of nonzero connection weights (unused in circle reservoir)\n",
    "        input_scaling = scaling of the input connection weights\n",
    "        noise_level = deviation of the Gaussian noise injected in the state update\n",
    "        circle = generate determinisitc reservoir with circle topology\n",
    "    \"\"\"\n",
    "    \n",
    "    def __init__(self, n_internal_units=100, spectral_radius=0.99, leak=None,\n",
    "                 connectivity=0.3, input_scaling=0.2, noise_level=0.01, circle=False):\n",
    "        \n",
    "        # Initialize attributes\n",
    "        self._n_internal_units = n_internal_units\n",
    "        self._input_scaling = input_scaling\n",
    "        self._noise_level = noise_level\n",
    "        self._leak = leak\n",
    "\n",
    "        # Input weights depend on input size: they are set when data is provided\n",
    "        self._input_weights = None\n",
    "\n",
    "        # Generate internal weights\n",
    "        if circle:\n",
    "            self._internal_weights = self._initialize_internal_weights_Circ(\n",
    "                    n_internal_units,\n",
    "                    spectral_radius)\n",
    "        else:\n",
    "            self._internal_weights = self._initialize_internal_weights(\n",
    "                n_internal_units,\n",
    "                connectivity,\n",
    "                spectral_radius)\n",
    "\n",
    "\n",
    "    def _initialize_internal_weights_Circ(self, n_internal_units, spectral_radius):\n",
    "        \n",
    "        internal_weights = np.zeros((n_internal_units, n_internal_units))\n",
    "        internal_weights[0,-1] = spectral_radius\n",
    "        for i in range(n_internal_units-1):\n",
    "            internal_weights[i+1,i] = spectral_radius\n",
    "                \n",
    "        return internal_weights\n",
    "    \n",
    "    \n",
    "    def _initialize_internal_weights(self, n_internal_units,\n",
    "                                     connectivity, spectral_radius):\n",
    "\n",
    "        # Generate sparse, uniformly distributed weights.\n",
    "        internal_weights = sparse.rand(n_internal_units,\n",
    "                                       n_internal_units,\n",
    "                                       density=connectivity).todense()\n",
    "\n",
    "        # Ensure that the nonzero values are uniformly distributed in [-0.5, 0.5]\n",
    "        internal_weights[np.where(internal_weights > 0)] -= 0.5\n",
    "        \n",
    "        # Adjust the spectral radius.\n",
    "        E, _ = np.linalg.eig(internal_weights)\n",
    "        e_max = np.max(np.abs(E))\n",
    "        internal_weights /= np.abs(e_max)/spectral_radius       \n",
    "\n",
    "        return internal_weights\n",
    "\n",
    "\n",
    "    def _compute_state_matrix(self, X, n_drop=0):\n",
    "        N, T = X.shape\n",
    "        previous_state = np.zeros((N, self._n_internal_units), dtype=float)\n",
    "\n",
    "        # Storage\n",
    "        state_matrix = np.empty((N, T - n_drop, self._n_internal_units), dtype=float)\n",
    "        for t in range(T):\n",
    "            X_row = X.shape[0]\n",
    "            current_input = X[:, t].reshape(X_row,1)\n",
    "            new_input_weights = self._input_weights.reshape(self._n_internal_units, 1)\n",
    "\n",
    "            # Calculate state\n",
    "            state_before_tanh = self._internal_weights.dot(previous_state.T) + new_input_weights.dot(current_input.T)\n",
    "\n",
    "            # Add noise\n",
    "            state_before_tanh += np.random.rand(self._n_internal_units, N)*self._noise_level\n",
    "\n",
    "            # Apply nonlinearity and leakage (optional)\n",
    "            if self._leak is None:\n",
    "                previous_state = np.tanh(state_before_tanh).T\n",
    "            else:\n",
    "                previous_state = (1.0 - self._leak)*previous_state + np.tanh(state_before_tanh).T\n",
    "\n",
    "            # Store everything after the dropout period\n",
    "            if (t > n_drop - 1):\n",
    "                state_matrix[:, t - n_drop] = previous_state\n",
    "\n",
    "        return state_matrix\n",
    "\n",
    "\n",
    "    def get_states(self, X, n_drop=0, bidir=True):\n",
    "        N, T = X.shape\n",
    "        if self._input_weights is None:\n",
    "            self._input_weights = (2.0*np.random.binomial(1, 0.5 , [self._n_internal_units]) - 1.0)*self._input_scaling\n",
    "\n",
    "        # compute sequence of reservoir states\n",
    "        states = self._compute_state_matrix(X, n_drop)\n",
    "    \n",
    "        # reservoir states on time reversed input\n",
    "        if bidir is True:\n",
    "            X_r = X[:, ::-1]\n",
    "            states_r = self._compute_state_matrix(X_r, n_drop)\n",
    "            states = np.concatenate((states, states_r), axis=2)\n",
    "\n",
    "        return states\n",
    "    \n",
    "    def getReservoirEmbedding(self, X,pca, ridge_embedding,  n_drop=5, bidir=True, test = False):\n",
    "\n",
    "        res_states = self.get_states(X, n_drop=5, bidir=True)\n",
    "\n",
    "\n",
    "        N_samples = res_states.shape[0]\n",
    "        res_states = res_states.reshape(-1, res_states.shape[2])                   \n",
    "        # ..transform..\n",
    "        if test:\n",
    "            red_states = pca.transform(res_states)\n",
    "        else:\n",
    "            red_states = pca.fit_transform(res_states)          \n",
    "        # ..and put back in tensor form\n",
    "        red_states = red_states.reshape(N_samples,-1,red_states.shape[1])  \n",
    "\n",
    "        coeff_tr = []\n",
    "        biases_tr = []   \n",
    "\n",
    "        for i in range(X.shape[0]):\n",
    "            ridge_embedding.fit(red_states[i, 0:-1], red_states[i, 1:])\n",
    "            coeff_tr.append(ridge_embedding.coef_.ravel())\n",
    "            biases_tr.append(ridge_embedding.intercept_.ravel())\n",
    "        print(np.array(coeff_tr).shape,np.array(biases_tr).shape)\n",
    "        input_repr = np.concatenate((np.vstack(coeff_tr), np.vstack(biases_tr)), axis=1)\n",
    "        return input_repr"
   ]
  },
  {
   "cell_type": "code",
   "execution_count": 141,
   "metadata": {},
   "outputs": [
    {
     "data": {
      "text/plain": [
       "Text(0.5, 1.0, 'A sample of data')"
      ]
     },
     "execution_count": 141,
     "metadata": {},
     "output_type": "execute_result"
    },
    {
     "data": {
      "image/png": "[encoded data removed]",
      "text/plain": [
       "<Figure size 432x288 with 1 Axes>"
      ]
     },
     "metadata": {
      "needs_background": "light"
     },
     "output_type": "display_data"
    }
   ],
   "source": [
    "data = pd.read_csv(\"Datasets/ids2018_1502thurs_train_60.csv\", header=None)\n",
    "data.head()\n",
    "\n",
    "# plot some of it\n",
    "figure(10).clear()\n",
    "plot(data[0:1000])\n",
    "title('A sample of data')"
   ]
  },
  {
   "cell_type": "code",
   "execution_count": 142,
   "metadata": {},
   "outputs": [],
   "source": [
    "num_col = data.shape[1]\n",
    "num_row = data.shape[0]\n",
    "\n",
    "X_data = data.iloc[:, 0:num_col-1]\n",
    "min_max_scaler = preprocessing.MinMaxScaler()\n",
    "x_scaled = min_max_scaler.fit_transform(X_data.values)\n",
    "X = pd.DataFrame(np.nan_to_num(x_scaled))\n",
    "\n",
    "y = data.iloc[:, num_col-1]"
   ]
  },
  {
   "cell_type": "code",
   "execution_count": 145,
   "metadata": {},
   "outputs": [
    {
     "name": "stdout",
     "output_type": "stream",
     "text": [
      "(12, 78) (12,)\n",
      "(12, 78) (12,)\n"
     ]
    }
   ],
   "source": [
    "X_train, X_test, y_train, y_test = train_test_split(X, y, test_size=0.5)\n",
    "\n",
    "# Working with 1% of the data for now because my laptop sucks\n",
    "X_train2 = X_train.sample(frac=0.0001, replace=True, random_state=1)\n",
    "y_train2 = y_train.sample(frac=0.0001, replace=True, random_state=1)\n",
    "X_test2 = X_test.sample(frac=0.0001, replace=True, random_state=1)\n",
    "y_test2 = y_test.sample(frac=0.0001, replace=True, random_state=1)\n",
    "print(X_train2.shape, y_train2.shape)\n",
    "print(X_test2.shape, y_test2.shape)"
   ]
  },
  {
   "cell_type": "code",
   "execution_count": 149,
   "metadata": {},
   "outputs": [
    {
     "data": {
      "text/plain": [
       "(59341     0\n",
       " 197535    1\n",
       " 189200    0\n",
       " 209486    0\n",
       " 151432    0\n",
       " 243250    0\n",
       " 207327    0\n",
       " 211645    0\n",
       " 240488    1\n",
       " 75372     0\n",
       " 79285     0\n",
       " 192076    1\n",
       " Name: 78, dtype: int64, 117231    0\n",
       " 153593    0\n",
       " 78167     0\n",
       " 186395    0\n",
       " 148285    0\n",
       " 137883    0\n",
       " 74798     0\n",
       " 224855    0\n",
       " 134136    0\n",
       " 63053     0\n",
       " 149912    0\n",
       " 225977    1\n",
       " Name: 78, dtype: int64)"
      ]
     },
     "execution_count": 149,
     "metadata": {},
     "output_type": "execute_result"
    }
   ],
   "source": [
    "y_train2, y_test2"
   ]
  },
  {
   "cell_type": "code",
   "execution_count": 150,
   "metadata": {},
   "outputs": [],
   "source": [
    "pca = PCA() #n_components gives number of components to keep for linear dimensionality reduction\n",
    "ridge_embedding = Ridge(alpha=10, fit_intercept=True)\n",
    "readout = Ridge(alpha=5)"
   ]
  },
  {
   "cell_type": "code",
   "execution_count": 151,
   "metadata": {},
   "outputs": [],
   "source": [
    "res = Reservoir(n_internal_units=450, spectral_radius=0.6, leak=0.6,\n",
    "                 connectivity=0.25, input_scaling=0.1, noise_level=0.01, circle=False)"
   ]
  },
  {
   "cell_type": "code",
   "execution_count": 152,
   "metadata": {},
   "outputs": [
    {
     "name": "stdout",
     "output_type": "stream",
     "text": [
      "(12, 767376) (12, 876)\n"
     ]
    },
    {
     "data": {
      "text/plain": [
       "array([[ 6.45038560e-01, -6.25419108e-02, -2.30198120e-02, ...,\n",
       "         1.44224781e-06,  2.34243278e-06,  2.13524046e-16],\n",
       "       [ 4.84873684e-01, -5.61336076e-02, -2.57952637e-02, ...,\n",
       "        -4.67258684e-07,  2.74265114e-06,  2.13524046e-16],\n",
       "       [ 6.13334410e-02, -2.43191959e-02, -3.93982591e-02, ...,\n",
       "         5.36353882e-06, -1.37511333e-06,  2.13524046e-16],\n",
       "       ...,\n",
       "       [ 4.24263554e-01, -4.26628269e-02,  2.93879885e-02, ...,\n",
       "        -4.28376294e-07,  9.29542016e-07,  2.13524046e-16],\n",
       "       [ 4.45341656e-01, -1.78306429e-02, -7.56386002e-02, ...,\n",
       "         8.21189225e-07,  1.94125691e-06,  2.13524046e-16],\n",
       "       [ 4.63117393e-01, -4.11492513e-02, -2.85009790e-02, ...,\n",
       "         4.24581190e-06, -2.39146258e-06,  2.13524046e-16]])"
      ]
     },
     "execution_count": 152,
     "metadata": {},
     "output_type": "execute_result"
    }
   ],
   "source": [
    "input_repr = res.getReservoirEmbedding(np.array(X_train2), pca, ridge_embedding,  n_drop=5, bidir=True, test = False)\n",
    "input_repr"
   ]
  },
  {
   "cell_type": "code",
   "execution_count": 153,
   "metadata": {},
   "outputs": [
    {
     "name": "stdout",
     "output_type": "stream",
     "text": [
      "(12, 767376) (12, 876)\n"
     ]
    },
    {
     "data": {
      "text/plain": [
       "array([[ 4.00953790e-01, -4.14265470e-02,  1.33232446e-02, ...,\n",
       "        -3.10711090e-04, -1.37552434e-03,  4.36187010e-04],\n",
       "       [ 4.12922983e-01, -6.79106297e-02,  1.58341710e-02, ...,\n",
       "         2.10491877e-04,  2.65024689e-05, -9.05233242e-04],\n",
       "       [ 6.17534459e-02, -2.60553574e-02, -4.06990715e-02, ...,\n",
       "         2.12286635e-03,  2.58503376e-03, -3.06554654e-04],\n",
       "       ...,\n",
       "       [ 5.89760404e-02, -2.61271059e-02, -4.08264512e-02, ...,\n",
       "        -5.59523228e-04,  3.81600261e-03,  4.85484304e-04],\n",
       "       [ 6.37171906e-02, -2.34005523e-02, -3.76727200e-02, ...,\n",
       "        -6.35305481e-05,  5.26326709e-04,  1.81053209e-03],\n",
       "       [ 4.74848196e-01, -1.40415080e-02, -4.90599112e-02, ...,\n",
       "         1.30730043e-03,  1.30052672e-03,  1.88327124e-05]])"
      ]
     },
     "execution_count": 153,
     "metadata": {},
     "output_type": "execute_result"
    }
   ],
   "source": [
    "input_repr_te = res.getReservoirEmbedding(np.array(X_test2), pca, ridge_embedding,  n_drop=5, bidir=True, test = True)\n",
    "input_repr_te"
   ]
  },
  {
   "cell_type": "code",
   "execution_count": 158,
   "metadata": {},
   "outputs": [
    {
     "name": "stdout",
     "output_type": "stream",
     "text": [
      "[0.28286753 0.26829887 0.2110056  0.24473609 0.15064889 0.24744849\n",
      " 0.18105078 0.2736949  0.21625872 0.21816606 0.22027307 0.32305489]\n"
     ]
    },
    {
     "data": {
      "text/plain": [
       "[0, 0, 0, 0, 0, 0, 0, 0, 0, 0, 0, 0]"
      ]
     },
     "execution_count": 158,
     "metadata": {},
     "output_type": "execute_result"
    }
   ],
   "source": [
    "readout.fit(input_repr, y_train2)\n",
    "pred_class = readout.predict(input_repr_te)\n",
    "print(pred_class)\n",
    "predictions = [int(round(x)) for x in pred_class]\n",
    "predictions"
   ]
  },
  {
   "cell_type": "code",
   "execution_count": 155,
   "metadata": {},
   "outputs": [
    {
     "data": {
      "text/plain": [
       "[0, 0, 0, 0, 0, 0, 0, 0, 0, 0, 0, 1]"
      ]
     },
     "execution_count": 155,
     "metadata": {},
     "output_type": "execute_result"
    }
   ],
   "source": [
    "true_class = list(y_test2)\n",
    "true_class"
   ]
  },
  {
   "cell_type": "code",
   "execution_count": 156,
   "metadata": {},
   "outputs": [
    {
     "data": {
      "text/plain": [
       "0.9166666666666666"
      ]
     },
     "execution_count": 156,
     "metadata": {},
     "output_type": "execute_result"
    }
   ],
   "source": [
    "def eqArray(a,b):\n",
    "    return np.where(a == b, 1, 0)\n",
    "\n",
    "np.sum(list(map(eqArray, predictions, true_class))) / len(true_class)\n",
    "\n",
    "#accuracy_score(true_class, pred_class, normalize=False)"
   ]
  },
  {
   "cell_type": "code",
   "execution_count": 157,
   "metadata": {},
   "outputs": [],
   "source": [
    "#f1_score(true_class, pred_class, average='weighted')"
   ]
  },
  {
   "cell_type": "code",
   "execution_count": null,
   "metadata": {},
   "outputs": [],
   "source": []
  }
 ],
 "metadata": {
  "kernelspec": {
   "display_name": "Python 3",
   "language": "python",
   "name": "python3"
  },
  "language_info": {
   "codemirror_mode": {
    "name": "ipython",
    "version": 3
   },
   "file_extension": ".py",
   "mimetype": "text/x-python",
   "name": "python",
   "nbconvert_exporter": "python",
   "pygments_lexer": "ipython3",
   "version": "3.7.4"
  }
 },
 "nbformat": 4,
 "nbformat_minor": 4
}
